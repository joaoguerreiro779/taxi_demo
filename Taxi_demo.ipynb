{
 "cells": [
  {
   "cell_type": "code",
   "execution_count": 1,
   "metadata": {
    "_cell_guid": "b1076dfc-b9ad-4769-8c92-a6c4dae69d19",
    "_uuid": "8f2839f25d086af736a60e9eeb907d3b93b6e0e5",
    "execution": {
     "iopub.execute_input": "2022-05-24T17:24:52.522267Z",
     "iopub.status.busy": "2022-05-24T17:24:52.521510Z",
     "iopub.status.idle": "2022-05-24T17:24:52.532505Z",
     "shell.execute_reply": "2022-05-24T17:24:52.531489Z",
     "shell.execute_reply.started": "2022-05-24T17:24:52.522227Z"
    }
   },
   "outputs": [],
   "source": [
    "import numpy as np # linear algebra\n",
    "import pandas as pd # data processing, CSV file I/O (e.g. pd.read_csv)\n",
    "from sklearn.model_selection import train_test_split\n",
    "from sklearn.model_selection import cross_val_score\n",
    "from sklearn.linear_model import LinearRegression\n",
    "from sklearn.feature_extraction import DictVectorizer\n",
    "from sklearn.metrics import mean_squared_error"
   ]
  },
  {
   "cell_type": "code",
   "execution_count": 2,
   "metadata": {
    "execution": {
     "iopub.execute_input": "2022-05-24T17:24:52.676749Z",
     "iopub.status.busy": "2022-05-24T17:24:52.676170Z",
     "iopub.status.idle": "2022-05-24T17:24:53.618957Z",
     "shell.execute_reply": "2022-05-24T17:24:53.618018Z",
     "shell.execute_reply.started": "2022-05-24T17:24:52.676711Z"
    }
   },
   "outputs": [],
   "source": [
    "def get_data(path):\n",
    "    df = pd.read_parquet(path=path)\n",
    "    df.drop(columns=['SR_Flag'], inplace=True)\n",
    "    return df"
   ]
  },
  {
   "cell_type": "code",
   "execution_count": 3,
   "metadata": {},
   "outputs": [],
   "source": [
    "def data_preparation(df):\n",
    "    df['duration'] = (df['dropOff_datetime'] - df['pickup_datetime']).dt.total_seconds()/60\n",
    "    return df"
   ]
  },
  {
   "cell_type": "code",
   "execution_count": 4,
   "metadata": {},
   "outputs": [],
   "source": [
    "def get_entries(df):\n",
    "    return df.shape[0]"
   ]
  },
  {
   "cell_type": "code",
   "execution_count": 5,
   "metadata": {},
   "outputs": [],
   "source": [
    "def get_average_duration(df):\n",
    "    return df.duration.mean()"
   ]
  },
  {
   "cell_type": "code",
   "execution_count": 6,
   "metadata": {
    "execution": {
     "iopub.execute_input": "2022-05-24T17:25:33.973340Z",
     "iopub.status.busy": "2022-05-24T17:25:33.973095Z",
     "iopub.status.idle": "2022-05-24T17:25:37.004013Z",
     "shell.execute_reply": "2022-05-24T17:25:37.003210Z",
     "shell.execute_reply.started": "2022-05-24T17:25:33.973304Z"
    }
   },
   "outputs": [],
   "source": [
    "def get_null_perc(df):\n",
    "    len_df=df.shape[0]\n",
    "    df=df[df['duration']>=1]\n",
    "    df=df[df['duration']<=60]\n",
    "\n",
    "    return df['PUlocationID'].isnull().values.sum()/df.shape[0], len_df-df.shape[0]"
   ]
  },
  {
   "cell_type": "code",
   "execution_count": 7,
   "metadata": {
    "execution": {
     "iopub.execute_input": "2022-05-24T17:25:37.019774Z",
     "iopub.status.busy": "2022-05-24T17:25:37.019414Z",
     "iopub.status.idle": "2022-05-24T17:25:44.983195Z",
     "shell.execute_reply": "2022-05-24T17:25:44.982397Z",
     "shell.execute_reply.started": "2022-05-24T17:25:37.019734Z"
    }
   },
   "outputs": [],
   "source": [
    "def feature_engineering(df):\n",
    "    df=df[df['duration']>=1]\n",
    "    df=df[df['duration']<=60]\n",
    "    df['PUlocationID'].fillna(-1, inplace=True)\n",
    "    df['DOlocationID'].fillna(-1, inplace=True)\n",
    "    df['PUlocationID'] = df['PUlocationID'].astype(str)\n",
    "    df['DOlocationID'] = df['DOlocationID'].astype(str)\n",
    "    \n",
    "    return df\n",
    "    "
   ]
  },
  {
   "cell_type": "code",
   "execution_count": 8,
   "metadata": {
    "execution": {
     "iopub.execute_input": "2022-05-24T17:26:18.794082Z",
     "iopub.status.busy": "2022-05-24T17:26:18.793715Z",
     "iopub.status.idle": "2022-05-24T17:26:19.904058Z",
     "shell.execute_reply": "2022-05-24T17:26:19.902321Z",
     "shell.execute_reply.started": "2022-05-24T17:26:18.793988Z"
    }
   },
   "outputs": [],
   "source": [
    "def get_metrics(X_train, X_test, y_train, y_test):\n",
    "    lr = LinearRegression()\n",
    "    lr_rmse = np.mean((cross_val_score(lr, X_train, y_train, cv=2, scoring = 'neg_root_mean_squared_error')))\n",
    "    lr.fit(X_train, y_train)\n",
    "\n",
    "    print(\"Linear Regression Training RMSE: {0}\".format(-lr_rmse))\n",
    "\n",
    "    y_pred = lr.predict(X_test)\n",
    "\n",
    "    print(\"Linear Regression Testing RMSE: {0}\".format(mean_squared_error(y_test, y_pred)**0.5))"
   ]
  },
  {
   "cell_type": "code",
   "execution_count": 9,
   "metadata": {
    "execution": {
     "iopub.execute_input": "2022-05-24T17:25:44.991451Z",
     "iopub.status.busy": "2022-05-24T17:25:44.991093Z",
     "iopub.status.idle": "2022-05-24T17:25:55.698110Z",
     "shell.execute_reply": "2022-05-24T17:25:55.697292Z",
     "shell.execute_reply.started": "2022-05-24T17:25:44.991415Z"
    }
   },
   "outputs": [],
   "source": [
    "df_train = get_data('data/fhv_tripdata_2021-01.parquet')\n",
    "df_train = data_preparation(df_train)\n",
    "\n",
    "df_test = get_data('data/fhv_tripdata_2021-02.parquet')\n",
    "df_test = data_preparation(df_test)"
   ]
  },
  {
   "cell_type": "markdown",
   "metadata": {},
   "source": [
    "### Q1"
   ]
  },
  {
   "cell_type": "code",
   "execution_count": 10,
   "metadata": {},
   "outputs": [
    {
     "data": {
      "text/plain": [
       "1154112"
      ]
     },
     "execution_count": 10,
     "metadata": {},
     "output_type": "execute_result"
    }
   ],
   "source": [
    "get_entries(df_train)"
   ]
  },
  {
   "cell_type": "markdown",
   "metadata": {},
   "source": [
    "### Q2"
   ]
  },
  {
   "cell_type": "code",
   "execution_count": 11,
   "metadata": {},
   "outputs": [
    {
     "data": {
      "text/plain": [
       "19.167224093791006"
      ]
     },
     "execution_count": 11,
     "metadata": {},
     "output_type": "execute_result"
    }
   ],
   "source": [
    "get_average_duration(df_train)"
   ]
  },
  {
   "cell_type": "markdown",
   "metadata": {},
   "source": [
    "### Q3"
   ]
  },
  {
   "cell_type": "code",
   "execution_count": 12,
   "metadata": {},
   "outputs": [
    {
     "data": {
      "text/plain": [
       "(0.8352732770722617, 44286)"
      ]
     },
     "execution_count": 12,
     "metadata": {},
     "output_type": "execute_result"
    }
   ],
   "source": [
    "get_null_perc(df_train)"
   ]
  },
  {
   "cell_type": "markdown",
   "metadata": {},
   "source": [
    "### Q4"
   ]
  },
  {
   "cell_type": "code",
   "execution_count": 13,
   "metadata": {},
   "outputs": [],
   "source": [
    "df_train = feature_engineering(df_train)\n",
    "df_test = feature_engineering(df_test)"
   ]
  },
  {
   "cell_type": "code",
   "execution_count": 14,
   "metadata": {},
   "outputs": [
    {
     "name": "stdout",
     "output_type": "stream",
     "text": [
      "525\n"
     ]
    }
   ],
   "source": [
    "dv = DictVectorizer()\n",
    "X_train = dv.fit_transform(df_train[['PUlocationID','DOlocationID']].to_dict(orient='records'))\n",
    "print(X_train.shape[1])\n",
    "y_train = df_train['duration']\n",
    "\n",
    "X_test = dv.transform(df_test[['PUlocationID','DOlocationID']].to_dict(orient='records'))\n",
    "y_test = df_test['duration']"
   ]
  },
  {
   "cell_type": "markdown",
   "metadata": {},
   "source": [
    "### Q5 & Q6"
   ]
  },
  {
   "cell_type": "code",
   "execution_count": 15,
   "metadata": {},
   "outputs": [
    {
     "name": "stdout",
     "output_type": "stream",
     "text": [
      "Linear Regression Training RMSE: 10.542642284026236\n",
      "Linear Regression Testing RMSE: 11.01428315568312\n"
     ]
    }
   ],
   "source": [
    "get_metrics(X_train, X_test, y_train, y_test)"
   ]
  }
 ],
 "metadata": {
  "kernelspec": {
   "display_name": "Python 3 (ipykernel)",
   "language": "python",
   "name": "python3"
  },
  "language_info": {
   "codemirror_mode": {
    "name": "ipython",
    "version": 3
   },
   "file_extension": ".py",
   "mimetype": "text/x-python",
   "name": "python",
   "nbconvert_exporter": "python",
   "pygments_lexer": "ipython3",
   "version": "3.8.10"
  }
 },
 "nbformat": 4,
 "nbformat_minor": 4
}
